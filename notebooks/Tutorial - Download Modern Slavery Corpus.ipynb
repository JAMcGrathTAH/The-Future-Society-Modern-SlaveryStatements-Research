{
 "cells": [
  {
   "cell_type": "markdown",
   "metadata": {},
   "source": [
    "# Download the Modern Slavery Dataset"
   ]
  },
  {
   "cell_type": "code",
   "execution_count": null,
   "metadata": {},
   "outputs": [],
   "source": [
    "# Run only once\n",
    "# !pip install pandas\n",
    "# !pip install boto3"
   ]
  },
  {
   "cell_type": "code",
   "execution_count": 4,
   "metadata": {},
   "outputs": [],
   "source": [
    "import pandas\n",
    "import boto3"
   ]
  },
  {
   "cell_type": "code",
   "execution_count": 122,
   "metadata": {},
   "outputs": [
    {
     "name": "stdout",
     "output_type": "stream",
     "text": [
      "Modern Slavery Text Corpus is available in the following formats: \n",
      "\n",
      "modern_slavery_dataset.csv\n",
      "modern_slavery_dataset.json\n"
     ]
    }
   ],
   "source": [
    "s3_bucket = 'modern-slavery-dataset'\n",
    "\n",
    "s3_client = boto3.client('s3')\n",
    "\n",
    "response = s3_client.list_objects_v2(Bucket=s3_bucket)\n",
    "\n",
    "print(\"Modern Slavery Text Corpus is available in the following formats: \\n\")\n",
    "\n",
    "contents = response.get('Contents')\n",
    "for file in contents:\n",
    "    print(file['Key'])"
   ]
  },
  {
   "cell_type": "markdown",
   "metadata": {},
   "source": [
    "\n",
    "\n",
    "Pandas treats the NULL values differently in the two formats, so you can use one that you prefer.\n",
    "\n"
   ]
  },
  {
   "cell_type": "markdown",
   "metadata": {},
   "source": [
    "## Option 1 - Download the CSV"
   ]
  },
  {
   "cell_type": "code",
   "execution_count": 48,
   "metadata": {},
   "outputs": [],
   "source": [
    "s3_client.download_file(Bucket=s3_bucket, Key='modern_slavery_dataset.csv', Filename='data/modern_slavery_dataset.csv')"
   ]
  },
  {
   "cell_type": "code",
   "execution_count": 73,
   "metadata": {},
   "outputs": [],
   "source": [
    "df_csv = pandas.read_csv('data/modern_slavery_dataset.csv')"
   ]
  },
  {
   "cell_type": "code",
   "execution_count": 114,
   "metadata": {},
   "outputs": [
    {
     "name": "stdout",
     "output_type": "stream",
     "text": [
      "<class 'pandas.core.frame.DataFrame'>\n",
      "RangeIndex: 28417 entries, 0 to 28416\n",
      "Data columns (total 15 columns):\n",
      " #   Column                                        Non-Null Count  Dtype  \n",
      "---  ------                                        --------------  -----  \n",
      " 0   Company ID                                    28417 non-null  int64  \n",
      " 1   Company                                       27528 non-null  object \n",
      " 2   Is Publisher                                  27528 non-null  object \n",
      " 3   Statement ID                                  27528 non-null  float64\n",
      " 4   URL                                           28417 non-null  object \n",
      " 5   Override URL                                  18 non-null     object \n",
      " 6   Companies House Number                        21887 non-null  object \n",
      " 7   Industry                                      27528 non-null  object \n",
      " 8   HQ                                            27528 non-null  object \n",
      " 9   Is Also Covered                               27528 non-null  object \n",
      " 10  UK Modern Slavery Act                         27528 non-null  object \n",
      " 11  California Transparency in Supply Chains Act  27528 non-null  object \n",
      " 12  Australia Modern Slavery Act                  27528 non-null  object \n",
      " 13  Period Covered                                26865 non-null  object \n",
      " 14  Text                                          18622 non-null  object \n",
      "dtypes: float64(1), int64(1), object(13)\n",
      "memory usage: 3.3+ MB\n"
     ]
    }
   ],
   "source": [
    "df_csv.info()"
   ]
  },
  {
   "cell_type": "code",
   "execution_count": 115,
   "metadata": {},
   "outputs": [
    {
     "data": {
      "text/html": [
       "<div>\n",
       "<style scoped>\n",
       "    .dataframe tbody tr th:only-of-type {\n",
       "        vertical-align: middle;\n",
       "    }\n",
       "\n",
       "    .dataframe tbody tr th {\n",
       "        vertical-align: top;\n",
       "    }\n",
       "\n",
       "    .dataframe thead th {\n",
       "        text-align: right;\n",
       "    }\n",
       "</style>\n",
       "<table border=\"1\" class=\"dataframe\">\n",
       "  <thead>\n",
       "    <tr style=\"text-align: right;\">\n",
       "      <th></th>\n",
       "      <th>Company ID</th>\n",
       "      <th>Company</th>\n",
       "      <th>Is Publisher</th>\n",
       "      <th>Statement ID</th>\n",
       "      <th>URL</th>\n",
       "      <th>Override URL</th>\n",
       "      <th>Companies House Number</th>\n",
       "      <th>Industry</th>\n",
       "      <th>HQ</th>\n",
       "      <th>Is Also Covered</th>\n",
       "      <th>UK Modern Slavery Act</th>\n",
       "      <th>California Transparency in Supply Chains Act</th>\n",
       "      <th>Australia Modern Slavery Act</th>\n",
       "      <th>Period Covered</th>\n",
       "      <th>Text</th>\n",
       "    </tr>\n",
       "  </thead>\n",
       "  <tbody>\n",
       "    <tr>\n",
       "      <th>0</th>\n",
       "      <td>7676</td>\n",
       "      <td>\"K\" Line Holding Europe Limited</td>\n",
       "      <td>True</td>\n",
       "      <td>35092.0</td>\n",
       "      <td>https://img1.wsimg.com/blobby/go/7695baff-3f0f...</td>\n",
       "      <td>NaN</td>\n",
       "      <td>05005018</td>\n",
       "      <td>Marine</td>\n",
       "      <td>United Kingdom</td>\n",
       "      <td>False</td>\n",
       "      <td>True</td>\n",
       "      <td>False</td>\n",
       "      <td>False</td>\n",
       "      <td>2018-2019</td>\n",
       "      <td>K LINE\\nHOLDINC (EUROPE) LTD.\\nModern Slavery ...</td>\n",
       "    </tr>\n",
       "    <tr>\n",
       "      <th>1</th>\n",
       "      <td>28660</td>\n",
       "      <td>\"K\" Line Bulk Shipping (UK) Limited</td>\n",
       "      <td>False</td>\n",
       "      <td>35092.0</td>\n",
       "      <td>https://img1.wsimg.com/blobby/go/7695baff-3f0f...</td>\n",
       "      <td>NaN</td>\n",
       "      <td>04830352</td>\n",
       "      <td>Marine</td>\n",
       "      <td>United Kingdom</td>\n",
       "      <td>True</td>\n",
       "      <td>True</td>\n",
       "      <td>False</td>\n",
       "      <td>False</td>\n",
       "      <td>2018-2019</td>\n",
       "      <td>K LINE\\nHOLDINC (EUROPE) LTD.\\nModern Slavery ...</td>\n",
       "    </tr>\n",
       "    <tr>\n",
       "      <th>2</th>\n",
       "      <td>28659</td>\n",
       "      <td>\"K\" Line (Europe) Limited</td>\n",
       "      <td>False</td>\n",
       "      <td>35092.0</td>\n",
       "      <td>https://img1.wsimg.com/blobby/go/7695baff-3f0f...</td>\n",
       "      <td>NaN</td>\n",
       "      <td>05639474</td>\n",
       "      <td>Marine</td>\n",
       "      <td>United Kingdom</td>\n",
       "      <td>True</td>\n",
       "      <td>True</td>\n",
       "      <td>False</td>\n",
       "      <td>False</td>\n",
       "      <td>2018-2019</td>\n",
       "      <td>K LINE\\nHOLDINC (EUROPE) LTD.\\nModern Slavery ...</td>\n",
       "    </tr>\n",
       "    <tr>\n",
       "      <th>3</th>\n",
       "      <td>28661</td>\n",
       "      <td>\"K\" Line LNG Shipping Limited</td>\n",
       "      <td>False</td>\n",
       "      <td>35092.0</td>\n",
       "      <td>https://img1.wsimg.com/blobby/go/7695baff-3f0f...</td>\n",
       "      <td>NaN</td>\n",
       "      <td>NaN</td>\n",
       "      <td>Marine</td>\n",
       "      <td>United Kingdom</td>\n",
       "      <td>True</td>\n",
       "      <td>True</td>\n",
       "      <td>False</td>\n",
       "      <td>False</td>\n",
       "      <td>2018-2019</td>\n",
       "      <td>K LINE\\nHOLDINC (EUROPE) LTD.\\nModern Slavery ...</td>\n",
       "    </tr>\n",
       "    <tr>\n",
       "      <th>4</th>\n",
       "      <td>28658</td>\n",
       "      <td>Polar LNG Shipping (UK) Limited</td>\n",
       "      <td>False</td>\n",
       "      <td>35092.0</td>\n",
       "      <td>https://img1.wsimg.com/blobby/go/7695baff-3f0f...</td>\n",
       "      <td>NaN</td>\n",
       "      <td>02205323</td>\n",
       "      <td>Marine</td>\n",
       "      <td>United Kingdom</td>\n",
       "      <td>True</td>\n",
       "      <td>True</td>\n",
       "      <td>False</td>\n",
       "      <td>False</td>\n",
       "      <td>2018-2019</td>\n",
       "      <td>K LINE\\nHOLDINC (EUROPE) LTD.\\nModern Slavery ...</td>\n",
       "    </tr>\n",
       "  </tbody>\n",
       "</table>\n",
       "</div>"
      ],
      "text/plain": [
       "   Company ID                              Company Is Publisher  Statement ID  \\\n",
       "0        7676      \"K\" Line Holding Europe Limited         True       35092.0   \n",
       "1       28660  \"K\" Line Bulk Shipping (UK) Limited        False       35092.0   \n",
       "2       28659            \"K\" Line (Europe) Limited        False       35092.0   \n",
       "3       28661        \"K\" Line LNG Shipping Limited        False       35092.0   \n",
       "4       28658      Polar LNG Shipping (UK) Limited        False       35092.0   \n",
       "\n",
       "                                                 URL Override URL  \\\n",
       "0  https://img1.wsimg.com/blobby/go/7695baff-3f0f...          NaN   \n",
       "1  https://img1.wsimg.com/blobby/go/7695baff-3f0f...          NaN   \n",
       "2  https://img1.wsimg.com/blobby/go/7695baff-3f0f...          NaN   \n",
       "3  https://img1.wsimg.com/blobby/go/7695baff-3f0f...          NaN   \n",
       "4  https://img1.wsimg.com/blobby/go/7695baff-3f0f...          NaN   \n",
       "\n",
       "  Companies House Number Industry              HQ Is Also Covered  \\\n",
       "0               05005018   Marine  United Kingdom           False   \n",
       "1               04830352   Marine  United Kingdom            True   \n",
       "2               05639474   Marine  United Kingdom            True   \n",
       "3                    NaN   Marine  United Kingdom            True   \n",
       "4               02205323   Marine  United Kingdom            True   \n",
       "\n",
       "  UK Modern Slavery Act California Transparency in Supply Chains Act  \\\n",
       "0                  True                                        False   \n",
       "1                  True                                        False   \n",
       "2                  True                                        False   \n",
       "3                  True                                        False   \n",
       "4                  True                                        False   \n",
       "\n",
       "  Australia Modern Slavery Act Period Covered  \\\n",
       "0                        False      2018-2019   \n",
       "1                        False      2018-2019   \n",
       "2                        False      2018-2019   \n",
       "3                        False      2018-2019   \n",
       "4                        False      2018-2019   \n",
       "\n",
       "                                                Text  \n",
       "0  K LINE\\nHOLDINC (EUROPE) LTD.\\nModern Slavery ...  \n",
       "1  K LINE\\nHOLDINC (EUROPE) LTD.\\nModern Slavery ...  \n",
       "2  K LINE\\nHOLDINC (EUROPE) LTD.\\nModern Slavery ...  \n",
       "3  K LINE\\nHOLDINC (EUROPE) LTD.\\nModern Slavery ...  \n",
       "4  K LINE\\nHOLDINC (EUROPE) LTD.\\nModern Slavery ...  "
      ]
     },
     "execution_count": 115,
     "metadata": {},
     "output_type": "execute_result"
    }
   ],
   "source": [
    "df_csv.head()"
   ]
  },
  {
   "cell_type": "markdown",
   "metadata": {},
   "source": [
    "## Option 2 - Download in JSON format."
   ]
  },
  {
   "cell_type": "code",
   "execution_count": 65,
   "metadata": {},
   "outputs": [],
   "source": [
    "s3_client.download_file(Bucket=s3_bucket, Key='modern_slavery_dataset.json', Filename='data/modern_slavery_dataset.json')"
   ]
  },
  {
   "cell_type": "code",
   "execution_count": 88,
   "metadata": {},
   "outputs": [],
   "source": [
    "df_json = pandas.read_json('data/modern_slavery_dataset.json')"
   ]
  },
  {
   "cell_type": "code",
   "execution_count": 117,
   "metadata": {},
   "outputs": [
    {
     "name": "stdout",
     "output_type": "stream",
     "text": [
      "<class 'pandas.core.frame.DataFrame'>\n",
      "Int64Index: 28417 entries, 0 to 28416\n",
      "Data columns (total 15 columns):\n",
      " #   Column                                        Non-Null Count  Dtype  \n",
      "---  ------                                        --------------  -----  \n",
      " 0   Company ID                                    28417 non-null  int64  \n",
      " 1   Company                                       27528 non-null  object \n",
      " 2   Is Publisher                                  27528 non-null  object \n",
      " 3   Statement ID                                  27528 non-null  float64\n",
      " 4   URL                                           28417 non-null  object \n",
      " 5   Override URL                                  18 non-null     object \n",
      " 6   Companies House Number                        21887 non-null  object \n",
      " 7   Industry                                      27528 non-null  object \n",
      " 8   HQ                                            27528 non-null  object \n",
      " 9   Is Also Covered                               27528 non-null  object \n",
      " 10  UK Modern Slavery Act                         27528 non-null  object \n",
      " 11  California Transparency in Supply Chains Act  27528 non-null  object \n",
      " 12  Australia Modern Slavery Act                  27528 non-null  object \n",
      " 13  Period Covered                                26865 non-null  object \n",
      " 14  Text                                          19504 non-null  object \n",
      "dtypes: float64(1), int64(1), object(13)\n",
      "memory usage: 4.7+ MB\n"
     ]
    }
   ],
   "source": [
    "df_json.info()"
   ]
  },
  {
   "cell_type": "code",
   "execution_count": 119,
   "metadata": {},
   "outputs": [
    {
     "data": {
      "text/plain": [
       "0        K LINE\\nHOLDINC (EUROPE) LTD.\\nModern Slavery ...\n",
       "1        K LINE\\nHOLDINC (EUROPE) LTD.\\nModern Slavery ...\n",
       "2        K LINE\\nHOLDINC (EUROPE) LTD.\\nModern Slavery ...\n",
       "3        K LINE\\nHOLDINC (EUROPE) LTD.\\nModern Slavery ...\n",
       "4        K LINE\\nHOLDINC (EUROPE) LTD.\\nModern Slavery ...\n",
       "                               ...                        \n",
       "28412                                                 None\n",
       "28413                                                 None\n",
       "28414                                                 None\n",
       "28415                                                 None\n",
       "28416                                                 None\n",
       "Name: Text, Length: 28417, dtype: object"
      ]
     },
     "execution_count": 119,
     "metadata": {},
     "output_type": "execute_result"
    }
   ],
   "source": []
  },
  {
   "cell_type": "code",
   "execution_count": null,
   "metadata": {},
   "outputs": [],
   "source": []
  }
 ],
 "metadata": {
  "kernelspec": {
   "display_name": "conda_python3",
   "language": "python",
   "name": "conda_python3"
  },
  "language_info": {
   "codemirror_mode": {
    "name": "ipython",
    "version": 3
   },
   "file_extension": ".py",
   "mimetype": "text/x-python",
   "name": "python",
   "nbconvert_exporter": "python",
   "pygments_lexer": "ipython3",
   "version": "3.6.10"
  }
 },
 "nbformat": 4,
 "nbformat_minor": 4
}
