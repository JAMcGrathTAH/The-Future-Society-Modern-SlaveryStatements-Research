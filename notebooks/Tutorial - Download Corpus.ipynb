{
 "cells": [
  {
   "cell_type": "markdown",
   "metadata": {},
   "source": [
    "This is an example notebook. Pl"
   ]
  },
  {
   "cell_type": "code",
   "execution_count": 15,
   "metadata": {},
   "outputs": [],
   "source": [
    "%reload_ext autoreload\n",
    "%autoreload 2"
   ]
  },
  {
   "cell_type": "markdown",
   "metadata": {},
   "source": [
    "# How to download the latest documents ?"
   ]
  },
  {
   "cell_type": "markdown",
   "metadata": {},
   "source": [
    "## Import function"
   ]
  },
  {
   "cell_type": "code",
   "execution_count": 7,
   "metadata": {},
   "outputs": [],
   "source": [
    "from modern_slavery_statements_research.download_corpus import download"
   ]
  },
  {
   "cell_type": "code",
   "execution_count": null,
   "metadata": {},
   "outputs": [],
   "source": [
    "download()"
   ]
  },
  {
   "cell_type": "markdown",
   "metadata": {},
   "source": [
    "### Do you want only to output the metadata?"
   ]
  },
  {
   "cell_type": "code",
   "execution_count": 14,
   "metadata": {
    "scrolled": true
   },
   "outputs": [
    {
     "name": "stderr",
     "output_type": "stream",
     "text": [
      "\n",
      "0it [00:00, ?it/s]\u001b[A\n",
      "1it [00:01,  1.36s/it]\u001b[A\n",
      "1001it [00:01,  1.05it/s]\u001b[A\n",
      "2001it [00:02,  1.50it/s]\u001b[A\n",
      "3001it [00:02,  2.15it/s]\u001b[A\n",
      "4001it [00:03,  3.07it/s]\u001b[A\n",
      "5001it [00:04,  4.38it/s]\u001b[A\n",
      "6001it [00:04,  6.25it/s]\u001b[A\n",
      "7001it [00:10,  8.79it/s]\u001b[A\n",
      "8001it [00:11, 12.49it/s]\u001b[A\n",
      "9001it [00:12, 17.75it/s]\u001b[A\n",
      "10001it [00:13, 25.23it/s]\u001b[A\n",
      "11001it [00:13, 35.84it/s]\u001b[A\n",
      "12095it [00:13, 871.77it/s][A\n"
     ]
    }
   ],
   "source": [
    "download(only_metadata = True, metadata_path = \"./metadatas.csv\")"
   ]
  },
  {
   "cell_type": "code",
   "execution_count": null,
   "metadata": {},
   "outputs": [],
   "source": []
  }
 ],
 "metadata": {
  "kernelspec": {
   "display_name": "Python 3",
   "language": "python",
   "name": "python3"
  },
  "language_info": {
   "codemirror_mode": {
    "name": "ipython",
    "version": 3
   },
   "file_extension": ".py",
   "mimetype": "text/x-python",
   "name": "python",
   "nbconvert_exporter": "python",
   "pygments_lexer": "ipython3",
   "version": "3.7.4"
  }
 },
 "nbformat": 4,
 "nbformat_minor": 4
}
